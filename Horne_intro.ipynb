{
 "cells": [
  {
   "cell_type": "markdown",
   "id": "71873e3f-a35a-442f-825c-027589ddf0e4",
   "metadata": {},
   "source": [
    "# First Notebook in JupyterLab"
   ]
  },
  {
   "cell_type": "markdown",
   "id": "65c89fab-e8b2-41ba-94e0-09134b2ecaf2",
   "metadata": {},
   "source": [
    "## Lemonteh Horne"
   ]
  },
  {
   "cell_type": "code",
   "execution_count": 10,
   "id": "5daabd9e-6697-4326-a604-17d85814bb93",
   "metadata": {},
   "outputs": [],
   "source": [
    "import random"
   ]
  },
  {
   "cell_type": "code",
   "execution_count": 12,
   "id": "9bd2501d-abe1-4842-a111-38dd9b101f5c",
   "metadata": {},
   "outputs": [],
   "source": [
    "nums = [random.randint(30, 100) for i in range(40)]"
   ]
  },
  {
   "cell_type": "code",
   "execution_count": 16,
   "id": "8be2996d-8c7e-4b5f-b2ff-837de7f8909b",
   "metadata": {},
   "outputs": [],
   "source": [
    "nums.sort()"
   ]
  },
  {
   "cell_type": "code",
   "execution_count": 20,
   "id": "43146877-8539-4074-b4d3-c2d58501cc01",
   "metadata": {},
   "outputs": [
    {
     "name": "stdout",
     "output_type": "stream",
     "text": [
      "31 31 36 38 40 48 50 53 53 53 58 58 59 61 63 63 64 66 67 68 70 70 74 79 81 81 81 82 87 88 88 89 90 95 95 96 96 96 96 96 "
     ]
    }
   ],
   "source": [
    "for num in nums:\n",
    "    print(num, end=\" \")"
   ]
  },
  {
   "cell_type": "markdown",
   "id": "bd21f526-c9cf-4acc-b30c-aece0221e5c2",
   "metadata": {},
   "source": [
    "$$ \\bar{x} = \\frac{\\sum x_i}{n} $$"
   ]
  },
  {
   "cell_type": "code",
   "execution_count": 62,
   "id": "d3c80402-3c24-40bc-9930-ff1eb00ee626",
   "metadata": {},
   "outputs": [
    {
     "name": "stdout",
     "output_type": "stream",
     "text": [
      "The sample mean value is: 69.75\n"
     ]
    }
   ],
   "source": [
    "sample_mean = sum(nums) / len(nums)\n",
    "print(f\"The sample mean value is: {sample_mean:.2f}\")"
   ]
  },
  {
   "cell_type": "markdown",
   "id": "f2eef78a-cfa9-429e-a749-93e182fefb85",
   "metadata": {},
   "source": [
    "## The Median\n",
    "[Median Definition](https://www.investopedia.com/terms/m/median.asp)"
   ]
  },
  {
   "cell_type": "code",
   "execution_count": 12,
   "id": "d5052b3d-2db4-4269-b121-61215adc2f22",
   "metadata": {},
   "outputs": [
    {
     "name": "stdout",
     "output_type": "stream",
     "text": [
      "The median is: 62.5\n"
     ]
    }
   ],
   "source": [
    "# Sort and arrange the data first, going from smallest to largest. \n",
    "# Determine the midpoint value by dividing the total number of observations by two. \n",
    "# If there is an odd number of observations, round the number up; the value at that point is the median. \n",
    "# If the number of observations is even, take the average of the values found above and below that place.\n",
    "\n",
    "import random\n",
    "\n",
    "# Random List Comprehension\n",
    "nums = [random.randint(30, 100) for i in range(40)]\n",
    "\n",
    "# Sort the nums list and assign it to nums_sorted\n",
    "nums_sorted = sorted(nums)\n",
    "\n",
    "# Determine the midpoint by finding the median\n",
    "if len(nums_sorted) % 2 == 1:\n",
    "    # For odd length, pick the middle element\n",
    "    median = nums_sorted[len(nums_sorted) // 2]\n",
    "else:\n",
    "    # For even length, average the two middle elements\n",
    "    mid_val_1 = nums_sorted[len(nums_sorted) // 2 - 1]\n",
    "    mid_val_2 = nums_sorted[len(nums_sorted) // 2]\n",
    "    median = (mid_val_1 + mid_val_2) / 2\n",
    "\n",
    "# Print the median to one decimal place.\n",
    "print(f\"The median is: {median:.1f}\")\n"
   ]
  },
  {
   "cell_type": "code",
   "execution_count": null,
   "id": "befc2044-c172-4f4a-b795-ec92fbae15f7",
   "metadata": {},
   "outputs": [],
   "source": []
  }
 ],
 "metadata": {
  "kernelspec": {
   "display_name": "Python 3 (ipykernel)",
   "language": "python",
   "name": "python3"
  },
  "language_info": {
   "codemirror_mode": {
    "name": "ipython",
    "version": 3
   },
   "file_extension": ".py",
   "mimetype": "text/x-python",
   "name": "python",
   "nbconvert_exporter": "python",
   "pygments_lexer": "ipython3",
   "version": "3.12.4"
  }
 },
 "nbformat": 4,
 "nbformat_minor": 5
}
